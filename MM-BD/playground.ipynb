{
 "cells": [
  {
   "cell_type": "code",
   "execution_count": 2,
   "metadata": {},
   "outputs": [],
   "source": [
    "import numpy as np\n",
    "from scipy.stats import median_abs_deviation as MAD\n",
    "from scipy.stats import gamma"
   ]
  },
  {
   "cell_type": "code",
   "execution_count": 22,
   "metadata": {},
   "outputs": [
    {
     "data": {
      "text/plain": [
       "np.float64(3.0)"
      ]
     },
     "execution_count": 22,
     "metadata": {},
     "output_type": "execute_result"
    }
   ],
   "source": [
    "stats = [1,3,1,3,3,3,4,2,3,4,4,3,4,3,4]\n",
    "np.median(stats)"
   ]
  },
  {
   "cell_type": "code",
   "execution_count": 23,
   "metadata": {},
   "outputs": [
    {
     "name": "stdout",
     "output_type": "stream",
     "text": [
      "mad:  1.482602218505602\n",
      "abs_dev: [2. 0. 2. 0. 0. 0. 1. 1. 0. 1. 1. 0. 1. 0. 1.]\n",
      "abs/mad (score): [1.3489795  0.         1.3489795  0.         0.         0.\n",
      " 0.67448975 0.67448975 0.         0.67448975 0.67448975 0.\n",
      " 0.67448975 0.         0.67448975]\n",
      "0.8951027384330035\n",
      "No Attack!\n"
     ]
    }
   ],
   "source": [
    "mad = MAD(stats, scale='normal')\n",
    "print(\"mad: \",mad)\n",
    "abs_deviation = np.abs(stats - np.median(stats))\n",
    "print(\"abs_dev:\", abs_deviation)\n",
    "score = abs_deviation / mad\n",
    "print(\"abs/mad (score):\",score)\n",
    "\n",
    "ind_max = np.argmax(stats)\n",
    "r_eval = np.max(stats)\n",
    "r_null = np.delete(stats, ind_max)\n",
    "\n",
    "shape, loc, scale = gamma.fit(r_null)\n",
    "pv = 1 - pow(gamma.cdf(r_eval, a=shape, loc=loc, scale=scale), len(r_null)+1)\n",
    "print(pv)\n",
    "if pv > 0.05:\n",
    "    print('No Attack!')\n",
    "else:\n",
    "    print('There is attack with target class {}'.format(np.argmax(stats)))"
   ]
  }
 ],
 "metadata": {
  "kernelspec": {
   "display_name": ".venv",
   "language": "python",
   "name": "python3"
  },
  "language_info": {
   "codemirror_mode": {
    "name": "ipython",
    "version": 3
   },
   "file_extension": ".py",
   "mimetype": "text/x-python",
   "name": "python",
   "nbconvert_exporter": "python",
   "pygments_lexer": "ipython3",
   "version": "3.12.3"
  }
 },
 "nbformat": 4,
 "nbformat_minor": 2
}
